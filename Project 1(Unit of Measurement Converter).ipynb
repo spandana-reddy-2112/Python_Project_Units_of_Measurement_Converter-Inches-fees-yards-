{
 "cells": [
  {
   "cell_type": "markdown",
   "id": "536cb8de-34ce-41b2-8b0d-b7feddb82af6",
   "metadata": {},
   "source": [
    "###### convert_from = input(\"Enter Starting Unit of Measurement (inches, feet, yards): \")\n",
    "convert_to = input(\"Enter Unit of Measurement to Conver to(inches, feet, yards): \")\n",
    "number_of_inches = input(\"Enter Starting Measurement in Inches: \")\n",
    "number_of_feet = input(\"Enter Starting Measurement in Feet: \")\n",
    "number_of_yards = input(\"Enter Starting Measurement in Yards: \")"
   ]
  },
  {
   "cell_type": "code",
   "execution_count": 127,
   "id": "a5b3cac0-e37c-4e99-9d5c-c8ca3603174c",
   "metadata": {},
   "outputs": [
    {
     "name": "stdin",
     "output_type": "stream",
     "text": [
      "Enter Starting Unit of Measurement (inches, feet, yards):  feet\n",
      "Enter Unit of Measurement to Convert to(inches, feet, yards):  inches\n",
      "Enter Starting Measurement in feet:  2\n"
     ]
    },
    {
     "name": "stdout",
     "output_type": "stream",
     "text": [
      "Result: 2 Feet = 24 Inches\n"
     ]
    }
   ],
   "source": [
    "convert_from = input(\"Enter Starting Unit of Measurement (inches, feet, yards): \")\n",
    "convert_to = input(\"Enter Unit of Measurement to Convert to(inches, feet, yards): \")\n",
    "if convert_from.lower() in [\"inches\",\"inch\",\"in\"]:\n",
    "    number_of_inches = int(input(\"Enter Starting Measurement in Inches: \"))\n",
    "    if convert_to.lower() in [\"feet\",\"foot\",\"ft\"]:\n",
    "        print (\"Result: \" + str(number_of_inches) + \" Inches = \" + str(round(number_of_inches / 12)) + \" Feet\" )\n",
    "    elif  convert_to.lower() in [\"yards\",\"yard\",\"yds\",\"yd\"]:\n",
    "        print (\"Result: \" + str(number_of_inches) + \" Inches = \" + str(round(number_of_inches / 36)) + \" yards\" )\n",
    "        \n",
    "    else:\n",
    "        print('Please Enter either Inches, Feet, or Yards')\n",
    "elif convert_from.lower() in [\"feet\",\"foot\",\"ft\"]:\n",
    "    number_of_feet = int(input(\"Enter Starting Measurement in feet: \"))\n",
    "    if convert_to.lower() in [\"inches\",\"inch\",\"in\"]:\n",
    "        print(\"Result: \" + str(number_of_feet) + \" Feet = \" + str(number_of_feet * 12) + \" Inches\")\n",
    "    elif  convert_to.lower() in [\"yards\",\"yard\",\"yds\",\"yd\"]:\n",
    "        print(\"Result: \" + str(number_of_feet) + \" Feet = \" + str(number_of_feet / 3) + \" yards\")\n",
    "    else:\n",
    "        print('Please Enter either Inches, Feet, or Yards')\n",
    "elif convert_from.lower() in [\"yards\",\"yard\",\"yds\",\"yd\"]:\n",
    "    number_of_yards = int(input(\"Enter Starting Measurement in yards: \"))\n",
    "    if convert_to.lower() in [\"inches\",\"inch\",\"in\"]:\n",
    "         print(\"Result: \" + str(number_of_yards) + \" Yards = \" + str(round(number_of_yards * 36)) + \" Inches\" )\n",
    "    elif convert_to.lower() in [\"feet\",\"foot\",\"ft\"]:\n",
    "        print(\"Result: \" + str(number_of_yards) + \" Yards = \" + str(round(number_of_yards * 3)) + \" Feet\")\n",
    "    \n",
    "    else:\n",
    "        print('Please Enter either Inches, Feet, or Yards')\n",
    "else:\n",
    "    print('Please Enter either Inches, Feet, or Yards')"
   ]
  },
  {
   "cell_type": "code",
   "execution_count": null,
   "id": "eb459b52-f6e3-4aed-8422-0f2637314acd",
   "metadata": {},
   "outputs": [],
   "source": []
  }
 ],
 "metadata": {
  "kernelspec": {
   "display_name": "Python [conda env:base] *",
   "language": "python",
   "name": "conda-base-py"
  },
  "language_info": {
   "codemirror_mode": {
    "name": "ipython",
    "version": 3
   },
   "file_extension": ".py",
   "mimetype": "text/x-python",
   "name": "python",
   "nbconvert_exporter": "python",
   "pygments_lexer": "ipython3",
   "version": "3.12.7"
  }
 },
 "nbformat": 4,
 "nbformat_minor": 5
}
