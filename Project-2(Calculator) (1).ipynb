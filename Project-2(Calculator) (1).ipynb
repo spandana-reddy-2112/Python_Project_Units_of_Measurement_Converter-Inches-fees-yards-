{
 "cells": [
  {
   "cell_type": "code",
   "execution_count": 4,
   "id": "0d9208c3-59be-4bd9-b214-86ecb994c0ab",
   "metadata": {},
   "outputs": [],
   "source": [
    "def add(x,y):\n",
    "    return x + y\n",
    "def subtract(x,y) :\n",
    "    return x - y\n",
    "def multiply(x,y):\n",
    "    return x * y\n",
    "def divide(x,y):\n",
    "    return x / y"
   ]
  },
  {
   "cell_type": "code",
   "execution_count": 8,
   "id": "2d169958-ec8d-4c16-80f8-3761f487913d",
   "metadata": {},
   "outputs": [
    {
     "name": "stdin",
     "output_type": "stream",
     "text": [
      "Enter Choice (A,S,M,D):  A\n",
      "Enter first number:  2\n",
      "Enter second number:  3\n"
     ]
    }
   ],
   "source": [
    "choice = input( 'Enter Choice (A,S,M,D): ')\n",
    "num1 = float (input( 'Enter first number: '))\n",
    "num2 = float(input ('Enter second number: '))"
   ]
  },
  {
   "cell_type": "code",
   "execution_count": 34,
   "id": "091568b3-3874-4f20-9b19-9038d0e8abc2",
   "metadata": {},
   "outputs": [
    {
     "name": "stdout",
     "output_type": "stream",
     "text": [
      "Enter A for addition\n",
      "Enter S for subraction\n",
      "Enter M for multiplication\n",
      "Enter D for division\n"
     ]
    },
    {
     "name": "stdin",
     "output_type": "stream",
     "text": [
      "Enter Choice (A,S,M,D):  d\n",
      "Enter first number:  10\n",
      "Enter second number:  20\n"
     ]
    },
    {
     "name": "stdout",
     "output_type": "stream",
     "text": [
      "Result: 10.0 / 20.0 = 0.5\n"
     ]
    }
   ],
   "source": [
    "print('Enter A for addition')\n",
    "print('Enter S for subraction')\n",
    "print('Enter M for multiplication')\n",
    "print('Enter D for division')\n",
    "\n",
    "choice = input( 'Enter Choice (A,S,M,D): ')\n",
    "\n",
    "if choice.upper() in ('A', 'ADD', 'ADDITION', 'S', 'SUBTRACT', 'SUBTRACTION', 'M', 'MULTIPLY', 'MULITPLICATION', 'D', 'DIV','DIVISION'):\n",
    "    num1 = float(input('Enter first number: '))\n",
    "    num2 = float(input('Enter second number: '))\n",
    "\n",
    "    if choice.upper() in('A', 'ADD', 'ADDITION'):\n",
    "        print('Result:',num1, '+' , num2 ,'=', add(num1,num2))\n",
    "        \n",
    "    elif choice.upper() in('S', 'SUBTRACT', 'SUBTRACTION'):\n",
    "        print('Result:',num1, '-' , num2 ,'=', subract(num1,num2))\n",
    "        \n",
    "    elif choice.upper() in('M', 'MULTIPLY', 'MULITPLICATION'):\n",
    "        print('Result:',num1, '*' , num2 ,'=', multiply(num1,num2))\n",
    "        \n",
    "    elif choice.upper() in('D', 'DIV','DIVISION'):\n",
    "        print('Result:',num1, '/' , num2 ,'=', divide(num1,num2))\n",
    "    \n",
    "\n"
   ]
  },
  {
   "cell_type": "code",
   "execution_count": null,
   "id": "9d5d4769-b283-43b6-b9e1-313cf7d81b09",
   "metadata": {},
   "outputs": [
    {
     "name": "stdout",
     "output_type": "stream",
     "text": [
      "Enter A for addition\n",
      "Enter S for subraction\n",
      "Enter M for multiplication\n",
      "Enter D for division\n"
     ]
    }
   ],
   "source": [
    "print('Enter A for addition')\n",
    "print('Enter S for subraction')\n",
    "print('Enter M for multiplication')\n",
    "print('Enter D for division')\n",
    "\n",
    "choice = input( 'Enter Choice (A,S,M,D): ')\n",
    "\n",
    "if choice.upper() in ('A', 'ADD', 'ADDITION', 'S', 'SUBTRACT', 'SUBTRACTION', 'M', 'MULTIPLY', 'MULITPLICATION', 'D', 'DIV','DIVISION'):\n",
    "    num1 = float(input('Enter first number: '))\n",
    "    num2 = float(input('Enter second number: '))\n",
    "\n",
    "    if choice.upper() in('A', 'ADD', 'ADDITION'):\n",
    "        print('Result:',num1, '+' , num2 ,'=', add(num1,num2))\n",
    "        \n",
    "    elif choice.upper() in('S', 'SUBTRACT', 'SUBTRACTION'):\n",
    "        print('Result:',num1, '-' , num2 ,'=', subract(num1,num2))\n",
    "        \n",
    "    elif choice.upper() in('M', 'MULTIPLY', 'MULITPLICATION'):\n",
    "        print('Result:',num1, '*' , num2 ,'=', multiply(num1,num2))\n",
    "        \n",
    "    elif choice.upper() in('D', 'DIV','DIVISION'):\n",
    "        print('Result:',num1, '/' , num2 ,'=', divide(num1,num2))\n",
    "    \n",
    "\n"
   ]
  },
  {
   "cell_type": "code",
   "execution_count": 40,
   "id": "5bc051e0-030f-4201-8cf0-dbf7595b7c39",
   "metadata": {},
   "outputs": [
    {
     "name": "stdout",
     "output_type": "stream",
     "text": [
      "Enter A for addition\n",
      "Enter S for subraction\n",
      "Enter M for multiplication\n",
      "Enter D for division\n"
     ]
    },
    {
     "name": "stdin",
     "output_type": "stream",
     "text": [
      "Enter Choice (A,S,M,D):  a\n",
      "Enter first number:  10\n",
      "Enter second number:  20\n"
     ]
    },
    {
     "name": "stdout",
     "output_type": "stream",
     "text": [
      "Result: 10.0 + 20.0 = 30.0\n"
     ]
    },
    {
     "name": "stdin",
     "output_type": "stream",
     "text": [
      "Want to do another calculation? (yes,no?):  yes\n",
      "Enter Choice (A,S,M,D):  d\n",
      "Enter first number:  20\n",
      "Enter second number:  10\n"
     ]
    },
    {
     "name": "stdout",
     "output_type": "stream",
     "text": [
      "Result: 20.0 / 10.0 = 2.0\n"
     ]
    },
    {
     "name": "stdin",
     "output_type": "stream",
     "text": [
      "Want to do another calculation? (yes,no?):  no\n"
     ]
    }
   ],
   "source": [
    "print('Enter A for addition')\n",
    "print('Enter S for subraction')\n",
    "print('Enter M for multiplication')\n",
    "print('Enter D for division')\n",
    "\n",
    "\n",
    "while True:\n",
    "    choice = input( 'Enter Choice (A,S,M,D): ')\n",
    "\n",
    "    if choice.upper() in ('A', 'ADD', 'ADDITION', 'S', 'SUBTRACT', 'SUBTRACTION', 'M', 'MULTIPLY', 'MULITPLICATION', 'D', 'DIV','DIVISION'):\n",
    "        num1 = float(input('Enter first number: '))\n",
    "        num2 = float(input('Enter second number: '))\n",
    "    \n",
    "        if choice.upper() in('A', 'ADD', 'ADDITION'):\n",
    "            print('Result:',num1, '+' , num2 ,'=', add(num1,num2))\n",
    "            \n",
    "        elif choice.upper() in('S', 'SUBTRACT', 'SUBTRACTION'):\n",
    "            print('Result:',num1, '-' , num2 ,'=', subract(num1,num2))\n",
    "            \n",
    "        elif choice.upper() in('M', 'MULTIPLY', 'MULITPLICATION'):\n",
    "            print('Result:',num1, '*' , num2 ,'=', multiply(num1,num2))\n",
    "            \n",
    "        elif choice.upper() in('D', 'DIV','DIVISION'):\n",
    "            print('Result:',num1, '/' , num2 ,'=', divide(num1,num2))\n",
    "    else:\n",
    "        print(\"Please input a correct choice\")\n",
    "\n",
    "    next_calculation = input(\"Want to do another calculation? (yes,no?): \")\n",
    "    if next_calculation.lower() in ('no','n','nope'):\n",
    "        break\n",
    "        \n",
    "\n"
   ]
  },
  {
   "cell_type": "code",
   "execution_count": null,
   "id": "6bbc9f76-782d-40b1-99a9-1a5808efd249",
   "metadata": {},
   "outputs": [],
   "source": []
  }
 ],
 "metadata": {
  "kernelspec": {
   "display_name": "Python [conda env:base] *",
   "language": "python",
   "name": "conda-base-py"
  },
  "language_info": {
   "codemirror_mode": {
    "name": "ipython",
    "version": 3
   },
   "file_extension": ".py",
   "mimetype": "text/x-python",
   "name": "python",
   "nbconvert_exporter": "python",
   "pygments_lexer": "ipython3",
   "version": "3.12.7"
  }
 },
 "nbformat": 4,
 "nbformat_minor": 5
}
